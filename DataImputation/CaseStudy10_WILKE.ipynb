{
 "cells": [
  {
   "cell_type": "code",
   "execution_count": 1,
   "metadata": {},
   "outputs": [],
   "source": [
    "from sklearn.datasets import load_boston"
   ]
  },
  {
   "cell_type": "code",
   "execution_count": 2,
   "metadata": {},
   "outputs": [],
   "source": [
    "import numpy as np\n",
    "from sklearn.linear_model import LinearRegression\n",
    "from sklearn.metrics import mean_squared_error, r2_score"
   ]
  },
  {
   "cell_type": "markdown",
   "metadata": {},
   "source": [
    "# Loading and Examining Initial Dataset"
   ]
  },
  {
   "cell_type": "code",
   "execution_count": 3,
   "metadata": {},
   "outputs": [
    {
     "name": "stdout",
     "output_type": "stream",
     "text": [
      "(506, 13)\n"
     ]
    }
   ],
   "source": [
    "boston = load_boston()\n",
    "print(boston.data.shape)"
   ]
  },
  {
   "cell_type": "code",
   "execution_count": null,
   "metadata": {},
   "outputs": [],
   "source": [
    "boston.target.shape"
   ]
  },
  {
   "cell_type": "code",
   "execution_count": null,
   "metadata": {},
   "outputs": [],
   "source": [
    "print(boston.DESCR)"
   ]
  },
  {
   "cell_type": "markdown",
   "metadata": {},
   "source": [
    "### Step 1: Setting up Initial Regression"
   ]
  },
  {
   "cell_type": "code",
   "execution_count": 4,
   "metadata": {},
   "outputs": [],
   "source": [
    "x = boston.data[:,np.r_[0:11,12]]\n",
    "y = boston.target"
   ]
  },
  {
   "cell_type": "code",
   "execution_count": null,
   "metadata": {},
   "outputs": [],
   "source": [
    "x.shape"
   ]
  },
  {
   "cell_type": "code",
   "execution_count": 5,
   "metadata": {},
   "outputs": [],
   "source": [
    "def regTesting(x,y):\n",
    "    regr = LinearRegression()\n",
    "    regr.fit(x,y)\n",
    "    y_pred = regr.predict(x)\n",
    "    mse = mean_squared_error(y,y_pred)\n",
    "    r2 = r2_score(y,y_pred)\n",
    "    return mse, r2"
   ]
  },
  {
   "cell_type": "code",
   "execution_count": 6,
   "metadata": {},
   "outputs": [
    {
     "name": "stdout",
     "output_type": "stream",
     "text": [
      "Baseline MSE: 22.429681439489926 \n",
      "Baseline R2: 0.7343070437613076\n"
     ]
    }
   ],
   "source": [
    "base_mse, base_r2 = regTesting(x,y)\n",
    "print('Baseline MSE:', base_mse,'\\nBaseline R2:', base_r2)"
   ]
  },
  {
   "cell_type": "markdown",
   "metadata": {},
   "source": [
    "### Step 2: MCAR Imputation Performance"
   ]
  },
  {
   "cell_type": "code",
   "execution_count": null,
   "metadata": {},
   "outputs": [],
   "source": [
    "from sklearn.experimental import enable_iterative_imputer  \n",
    "from sklearn.impute import IterativeImputer"
   ]
  },
  {
   "cell_type": "code",
   "execution_count": null,
   "metadata": {},
   "outputs": [],
   "source": [
    "perc_array = [0.01, 0.05, 0.10, 0.2, 0.33, 0.5]"
   ]
  },
  {
   "cell_type": "code",
   "execution_count": null,
   "metadata": {},
   "outputs": [],
   "source": [
    "def mcar_dataset(x, rate, random = 44):\n",
    "    rng = np.random.RandomState(random)\n",
    "    missing_rate = rate\n",
    "    length = len(x)\n",
    "    num_to_remove = int(np.floor(length * missing_rate))\n",
    "    missing_records_bool = np.hstack((np.zeros(length - num_to_remove,\n",
    "                                          dtype=np.bool),\n",
    "                                 np.ones(num_to_remove,\n",
    "                                         dtype=np.bool)))\n",
    "    rng.shuffle(missing_records_bool)\n",
    "    \n",
    "    X_missing = x.copy()\n",
    "\n",
    "    # change the [0] index to represent the column to be reduced\n",
    "    X_missing[missing_records_bool,0] = np.nan\n",
    "    return X_missing"
   ]
  },
  {
   "cell_type": "code",
   "execution_count": null,
   "metadata": {},
   "outputs": [],
   "source": [
    "# The sample_posterior = True is to allow for multiple imputation, if we're doing that. Would need to modify the random_state for each iteration (maybe just remove the random_state?)\n",
    "imputer = IterativeImputer(missing_values=np.nan, sample_posterior=True, random_state=0)"
   ]
  },
  {
   "cell_type": "code",
   "execution_count": null,
   "metadata": {},
   "outputs": [],
   "source": [
    "imputed_scores = []\n",
    "for rate in perc_array:\n",
    "    x_new = mcar_dataset(x,rate)\n",
    "    x_impute = imputer.fit_transform(x_new)\n",
    "    mse, r2 = regTesting(x_impute,y)\n",
    "    imputed_scores.append((rate, mse,r2))"
   ]
  },
  {
   "cell_type": "code",
   "execution_count": null,
   "metadata": {},
   "outputs": [],
   "source": [
    "imputed_scores"
   ]
  },
  {
   "cell_type": "code",
   "execution_count": null,
   "metadata": {},
   "outputs": [],
   "source": [
    "dt=np.dtype('float,float,float')\n",
    "imp_scores_arr = np.array(imputed_scores,dtype=dt)\n",
    "imp_scores_arr.dtype.names=['Missing Rate','MSE','R2']\n",
    "imp_scores_arr"
   ]
  },
  {
   "cell_type": "code",
   "execution_count": 7,
   "metadata": {},
   "outputs": [],
   "source": [
    "import matplotlib.pyplot as plt"
   ]
  },
  {
   "cell_type": "code",
   "execution_count": null,
   "metadata": {},
   "outputs": [],
   "source": [
    "plt.figure(figsize=(12, 6))\n",
    "ax1 = plt.subplot(121)\n",
    "ax1.plot(imp_scores_arr['Missing Rate'], imp_scores_arr['MSE'], alpha=0.6, c='blue', marker=\"o\")\n",
    "ax1.plot(0, base_mse, 'gs')\n",
    "ax1.set_title('MSE of Imputed Missing Data')\n",
    "ax1.set_xlim(left=imp_scores_arr['Missing Rate'][0]*-1, right=imp_scores_arr['Missing Rate'][5]* 1.1)\n",
    "ax1.set_xlabel('Missing Rate')\n",
    "\n",
    "ax2 = plt.subplot(122)\n",
    "ax2.plot(imp_scores_arr['Missing Rate'], imp_scores_arr['R2'], alpha=0.6, c='blue', marker=\"o\")\n",
    "ax2.plot(0,base_r2, 'gs')\n",
    "ax2.set_title('Goodness of Fit of Imputed Missing Data')\n",
    "ax2.set_xlim(left=imp_scores_arr['Missing Rate'][0]*-1, right=imp_scores_arr['Missing Rate'][5]* 1.1)\n",
    "ax2.set_xlabel('Missing Rate')\n",
    "\n",
    "plt.show()"
   ]
  },
  {
   "cell_type": "markdown",
   "metadata": {},
   "source": [
    "### Step 3: MAR Imputation Performance"
   ]
  },
  {
   "cell_type": "markdown",
   "metadata": {},
   "source": [
    "Take 2 different columns and create data “Missing at Random” when controlled for a third variable (i.e if Variable Z is > 30, than Variables X, Y are randomly missing).  Make runs with 10%, 20% and 30% missing data imputed via your best guess.  Repeat your fit and comparisons to the baseline."
   ]
  },
  {
   "cell_type": "code",
   "execution_count": null,
   "metadata": {},
   "outputs": [],
   "source": [
    "len(np.where(x[:,4]>(0.6*max(x[:,4])))[0])"
   ]
  },
  {
   "cell_type": "code",
   "execution_count": null,
   "metadata": {},
   "outputs": [],
   "source": [
    "perc_array2 = [0.10, 0.2, 0.3]"
   ]
  },
  {
   "cell_type": "code",
   "execution_count": null,
   "metadata": {},
   "outputs": [],
   "source": [
    "def mar_dataset(x,rate,random=0):\n",
    "    np.random.seed(random)  # set the seed\n",
    "    # creates a boolean that looks for where the NO levels are greater than 60% of the maximum value of NO in the dataset\n",
    "    x_check = np.where(x[:,4]>(0.6*max(x[:,4])))\n",
    "    print(\"x_check length is: {0}\".format(len(x_check[0])))\n",
    "    num = int(np.floor(rate*len(x_check[0])))\n",
    "    print(\"num NaN'd: {0}\".format(num))\n",
    "    missing = np.random.choice(x_check[0], num ,replace=False)\n",
    "    X_missing = x.copy()\n",
    "    X_missing[missing, 5:6] = np.nan # introduces NaNs into RM and AGE\n",
    "    return X_missing"
   ]
  },
  {
   "cell_type": "code",
   "execution_count": null,
   "metadata": {},
   "outputs": [],
   "source": [
    "imputed_scores2 = []\n",
    "for rate in perc_array2:\n",
    "    x_new = mar_dataset(x,rate)\n",
    "    x_impute = imputer.fit_transform(x_new)\n",
    "    mse, r2 = regTesting(x_impute,y)\n",
    "    imputed_scores2.append((rate, mse,r2))"
   ]
  },
  {
   "cell_type": "code",
   "execution_count": null,
   "metadata": {},
   "outputs": [],
   "source": [
    "dt2=np.dtype('float,float,float')\n",
    "imp_scores_arr2 = np.array(imputed_scores2,dtype=dt2)\n",
    "imp_scores_arr2.dtype.names=['Missing Rate','MSE','R2']\n",
    "imp_scores_arr2"
   ]
  },
  {
   "cell_type": "code",
   "execution_count": null,
   "metadata": {},
   "outputs": [],
   "source": [
    "plt.figure(figsize=(12, 6))\n",
    "ax3 = plt.subplot(121)\n",
    "ax3.plot(imp_scores_arr2['Missing Rate'], imp_scores_arr2['MSE'], alpha=0.6, c='blue', marker=\"o\")\n",
    "ax3.plot(0, base_mse, 'gs')\n",
    "ax3.set_title('MSE of Imputed Missing Data')\n",
    "ax3.set_xlim(left=-.01, right=imp_scores_arr2['Missing Rate'][2]* 1.1)\n",
    "ax3.set_xlabel('Missing Rate')\n",
    "\n",
    "ax4 = plt.subplot(122)\n",
    "ax4.plot(imp_scores_arr2['Missing Rate'], imp_scores_arr2['R2'], alpha=0.6, c='blue', marker=\"o\")\n",
    "ax4.plot(0,base_r2, 'gs')\n",
    "ax4.set_title('Goodness of Fit of Imputed Missing Data')\n",
    "ax4.set_xlim(left=-.01, right=imp_scores_arr2['Missing Rate'][2]* 1.1)\n",
    "ax4.set_xlabel('Missing Rate')\n",
    "\n",
    "plt.show()"
   ]
  },
  {
   "cell_type": "markdown",
   "metadata": {},
   "source": [
    "### Step 4: MNAR Imputation Performance \n",
    "Create a Missing Not at Random pattern in which 25% of the data is missing for a single column. "
   ]
  },
  {
   "cell_type": "code",
   "execution_count": 10,
   "metadata": {},
   "outputs": [
    {
     "data": {
      "text/plain": [
       "3.6770825"
      ]
     },
     "execution_count": 10,
     "metadata": {},
     "output_type": "execute_result"
    }
   ],
   "source": [
    "# To find what value the highest 25% of CRIM are (to know where to slice)\n",
    "np.quantile(x[:,0],.75)"
   ]
  },
  {
   "cell_type": "code",
   "execution_count": 11,
   "metadata": {},
   "outputs": [
    {
     "data": {
      "text/plain": [
       "127"
      ]
     },
     "execution_count": 11,
     "metadata": {},
     "output_type": "execute_result"
    }
   ],
   "source": [
    "len(np.where(x[:,0]>np.quantile(x[:,0],.75))[0])"
   ]
  },
  {
   "cell_type": "code",
   "execution_count": 12,
   "metadata": {},
   "outputs": [],
   "source": [
    "def mnar_dataset(x,rate = 0.25,random=0):\n",
    "    rate = 1-rate\n",
    "    # creates a boolean that looks for where the CRIM levels are greater than 75th percentile\n",
    "    x_check = np.where(x[:,0]>np.quantile(x[:,0],rate))\n",
    "    X_missing = x.copy()\n",
    "    X_missing[x_check, 0] = np.nan\n",
    "    return X_missing, x_check"
   ]
  },
  {
   "cell_type": "code",
   "execution_count": 14,
   "metadata": {},
   "outputs": [],
   "source": [
    "x_new, x_check = mnar_dataset(x)\n",
    "\n"
   ]
  },
  {
   "cell_type": "code",
   "execution_count": null,
   "metadata": {},
   "outputs": [],
   "source": [
    "x_impute = imputer.fit_transform(x_new)\n",
    "mse_mnar, r2_mnar = regTesting(x_impute,y)"
   ]
  },
  {
   "cell_type": "code",
   "execution_count": null,
   "metadata": {},
   "outputs": [],
   "source": [
    "x_check"
   ]
  },
  {
   "cell_type": "code",
   "execution_count": 117,
   "metadata": {},
   "outputs": [
    {
     "name": "stdout",
     "output_type": "stream",
     "text": [
      "Baseline MSE: 22.429681439489926 \n",
      "Baseline R2: 0.7343070437613076\n",
      "\n",
      "MNAR Imputed MSE: 78.30022904824078 \n",
      "MNAR Imputed R2: r2_r(r2_median=0.07, r2_mean=0.07, r2_std=0.0)\n"
     ]
    }
   ],
   "source": [
    "print('Baseline MSE:', base_mse,'\\nBaseline R2:', base_r2)\n",
    "print('\\nMNAR Imputed MSE:', mse_mnar,'\\nMNAR Imputed R2:', r2_mnar)"
   ]
  },
  {
   "cell_type": "markdown",
   "metadata": {},
   "source": [
    "### Step 5 (Extra Credit): MCMC Imputation Performance\n",
    "Using the MCMC method, and your data from step 4, What is the difference in performance between imputation via ‘guess’ (mean/median, etc) and MCMC."
   ]
  },
  {
   "cell_type": "code",
   "execution_count": 18,
   "metadata": {},
   "outputs": [],
   "source": [
    "#  https://towardsdatascience.com/markov-chain-monte-carlo-in-python-44f7e609be98\n",
    "#  https://docs.pymc.io/notebooks/getting_started.html\n",
    "\n",
    "from pymc3 import *"
   ]
  },
  {
   "cell_type": "code",
   "execution_count": 102,
   "metadata": {},
   "outputs": [],
   "source": [
    "# create matrix of rows with missing data in CRIM\n",
    "X_missing_subset = x_new[x_check,:]\n",
    "\n",
    "# create matrix of rows that are complete (dropping rows that are missing value for CRIM)\n",
    "mask = np.ones(len(x_new), np.bool)\n",
    "mask[x_check] = 0\n",
    "X_whole_subset = x_new[mask]"
   ]
  },
  {
   "cell_type": "code",
   "execution_count": 122,
   "metadata": {},
   "outputs": [],
   "source": [
    "X1 = X_whole_subset[:,1] \n",
    "X2 = X_whole_subset[:,2]\n",
    "X3 = X_whole_subset[:,3]\n",
    "X4 = X_whole_subset[:,4]\n",
    "X5 = X_whole_subset[:,5]\n",
    "X6 = X_whole_subset[:,6]\n",
    "X7 = X_whole_subset[:,7]\n",
    "X8 = X_whole_subset[:,8]\n",
    "X9 = X_whole_subset[:,9]\n",
    "X10 = X_whole_subset[:,10]\n",
    "X11 = X_whole_subset[:,11]\n",
    "\n",
    "\n",
    "Y = X_whole_subset[:,0]\n",
    "\n",
    "data = dict(X1=X1, X2=X2, X3=X3, X4=X4, X5=X5, X6=X6, X7=X7, X8=X8, X9=X9, X10=X10, X11=X11, Y=Y)"
   ]
  },
  {
   "cell_type": "code",
   "execution_count": 123,
   "metadata": {},
   "outputs": [
    {
     "name": "stderr",
     "output_type": "stream",
     "text": [
      "Auto-assigning NUTS sampler...\n",
      "Initializing NUTS using jitter+adapt_diag...\n",
      "Multiprocess sampling (2 chains in 2 jobs)\n",
      "NUTS: [sd, X11, X10, X9, X8, X7, X6, X5, X4, X3, X2, X1, Intercept]\n",
      "Sampling 2 chains: 100%|██████████| 7000/7000 [14:52<00:00,  3.04draws/s]\n",
      "The acceptance probability does not match the target. It is 0.952106968346552, but should be close to 0.8. Try to increase the number of tuning steps.\n",
      "The chain reached the maximum tree depth. Increase max_treedepth, increase target_accept or reparameterize.\n",
      "The acceptance probability does not match the target. It is 0.9287307180615588, but should be close to 0.8. Try to increase the number of tuning steps.\n",
      "The gelman-rubin statistic is larger than 1.4 for some parameters. The sampler did not converge.\n",
      "The estimated number of effective samples is smaller than 200 for some parameters.\n"
     ]
    }
   ],
   "source": [
    "MCMCModel = pm.Model()\n",
    "\n",
    "with MCMCModel:\n",
    "    glm.GLM.from_formula('Y ~ X1 + X2 + X3 + X4 + X5 + X6 + X7 + X8 + X9 + X10 + X11', data)\n",
    "    trace = sample(3000, cores=2) # draw 3000 posterior samples using NUTS sampling"
   ]
  },
  {
   "cell_type": "code",
   "execution_count": 124,
   "metadata": {},
   "outputs": [
    {
     "name": "stderr",
     "output_type": "stream",
     "text": [
      "/Users/benjaminwilke/anaconda3/lib/python3.7/site-packages/pymc3/tuning/starting.py:61: UserWarning: find_MAP should not be used to initialize the NUTS sampler, simply call pymc3.sample() and it will automatically initialize NUTS in a better way.\n",
      "  warnings.warn('find_MAP should not be used to initialize the NUTS sampler, simply call pymc3.sample() and it will automatically initialize NUTS in a better way.')\n",
      "logp = -287.14, ||grad|| = 7.7845: 100%|██████████| 2032/2032 [00:01<00:00, 1078.59it/s]  \n"
     ]
    }
   ],
   "source": [
    "parameters = pm.find_MAP(model=MCMCModel)"
   ]
  },
  {
   "cell_type": "code",
   "execution_count": 74,
   "metadata": {},
   "outputs": [
    {
     "data": {
      "text/plain": [
       "{'Intercept': array(-2.00857897),\n",
       " 'X1': array(0.0020852),\n",
       " 'X2': array(0.01252408),\n",
       " 'X3': array(0.14025759),\n",
       " 'X4': array(4.43131502),\n",
       " 'sd_log__': array(-0.70780317),\n",
       " 'sd': array(0.49272544)}"
      ]
     },
     "execution_count": 74,
     "metadata": {},
     "output_type": "execute_result"
    }
   ],
   "source": [
    "parameters"
   ]
  },
  {
   "cell_type": "code",
   "execution_count": 125,
   "metadata": {},
   "outputs": [],
   "source": [
    "params = {\"inter\": parameters[\"Intercept\"].item(0), \"X1\": parameters[\"X1\"].item(0),\n",
    "         \"X2\": parameters[\"X2\"].item(0), \"X3\": parameters[\"X3\"].item(0),\n",
    "         \"X4\": parameters[\"X4\"].item(0), \"X5\": parameters[\"X5\"].item(0), \n",
    "         \"X6\": parameters[\"X6\"].item(0), \"X7\": parameters[\"X7\"].item(0), \n",
    "         \"X8\": parameters[\"X8\"].item(0), \"X9\": parameters[\"X9\"].item(0), \n",
    "         \"X10\": parameters[\"X10\"].item(0), \"X11\": parameters[\"X11\"].item(0), \n",
    "         }"
   ]
  },
  {
   "cell_type": "code",
   "execution_count": 126,
   "metadata": {},
   "outputs": [
    {
     "data": {
      "text/plain": [
       "{'inter': -1.9266196530429902,\n",
       " 'X1': 0.0006671423503375285,\n",
       " 'X2': 0.014673089238562857,\n",
       " 'X3': 0.06744226665929479,\n",
       " 'X4': 4.259807875394496,\n",
       " 'X5': -0.017128154990272423,\n",
       " 'X6': 4.543309339669889e-05,\n",
       " 'X7': 0.047114415680519474,\n",
       " 'X8': 0.09189783211692451,\n",
       " 'X9': 4.7146169035044756e-05,\n",
       " 'X10': -0.031076794271239452,\n",
       " 'X11': 0.0016076343131654156}"
      ]
     },
     "execution_count": 126,
     "metadata": {},
     "output_type": "execute_result"
    }
   ],
   "source": [
    "params"
   ]
  },
  {
   "cell_type": "code",
   "execution_count": 129,
   "metadata": {},
   "outputs": [],
   "source": [
    "for each in range(127):\n",
    "    X_missing_subset[0][each][0] = params[\"inter\"] + (X_missing_subset[0][each][1] * params[\"X1\"]) + \\\n",
    "    (X_missing_subset[0][each][2] * params[\"X2\"]) + (X_missing_subset[0][each][3] * params[\"X3\"]) +  \\\n",
    "    (X_missing_subset[0][each][4] * params[\"X4\"]) + (X_missing_subset[0][each][5] * params[\"X5\"]) + \\\n",
    "    (X_missing_subset[0][each][6] * params[\"X6\"]) + (X_missing_subset[0][each][7] * params[\"X7\"]) + \\\n",
    "     (X_missing_subset[0][each][8] * params[\"X8\"]) + (X_missing_subset[0][each][9] * params[\"X9\"]) + \\\n",
    "    (X_missing_subset[0][each][10] * params[\"X10\"]) + (X_missing_subset[0][each][11] * params[\"X11\"])\n"
   ]
  },
  {
   "cell_type": "code",
   "execution_count": 108,
   "metadata": {},
   "outputs": [
    {
     "data": {
      "text/plain": [
       "(127, 12)"
      ]
     },
     "execution_count": 108,
     "metadata": {},
     "output_type": "execute_result"
    }
   ],
   "source": [
    "X_missing_subset[0].shape"
   ]
  },
  {
   "cell_type": "code",
   "execution_count": 105,
   "metadata": {},
   "outputs": [
    {
     "data": {
      "text/plain": [
       "(379, 12)"
      ]
     },
     "execution_count": 105,
     "metadata": {},
     "output_type": "execute_result"
    }
   ],
   "source": [
    "X_whole_subset.shape"
   ]
  },
  {
   "cell_type": "code",
   "execution_count": 130,
   "metadata": {},
   "outputs": [],
   "source": [
    "new = np.concatenate((X_missing_subset[0], X_whole_subset), axis=0)"
   ]
  },
  {
   "cell_type": "code",
   "execution_count": 118,
   "metadata": {},
   "outputs": [
    {
     "data": {
      "text/plain": [
       "(506, 12)"
      ]
     },
     "execution_count": 118,
     "metadata": {},
     "output_type": "execute_result"
    }
   ],
   "source": [
    "new.shape"
   ]
  },
  {
   "cell_type": "code",
   "execution_count": 131,
   "metadata": {},
   "outputs": [],
   "source": [
    "mse_mnar, r2_mnar = regTesting(new,y)"
   ]
  },
  {
   "cell_type": "code",
   "execution_count": 132,
   "metadata": {},
   "outputs": [
    {
     "name": "stdout",
     "output_type": "stream",
     "text": [
      "Baseline MSE: 22.429681439489926 \n",
      "Baseline R2: 0.7343070437613076\n",
      "\n",
      "MNAR Imputed MSE: 78.5247492188646 \n",
      "MNAR Imputed R2: r2_r(r2_median=0.07, r2_mean=0.07, r2_std=0.0)\n"
     ]
    }
   ],
   "source": [
    "print('Baseline MSE:', base_mse,'\\nBaseline R2:', base_r2)\n",
    "print('\\nMNAR Imputed MSE:', mse_mnar,'\\nMNAR Imputed R2:', r2_mnar)"
   ]
  }
 ],
 "metadata": {
  "kernelspec": {
   "display_name": "Python 3",
   "language": "python",
   "name": "python3"
  },
  "language_info": {
   "codemirror_mode": {
    "name": "ipython",
    "version": 3
   },
   "file_extension": ".py",
   "mimetype": "text/x-python",
   "name": "python",
   "nbconvert_exporter": "python",
   "pygments_lexer": "ipython3",
   "version": "3.7.3"
  }
 },
 "nbformat": 4,
 "nbformat_minor": 2
}
