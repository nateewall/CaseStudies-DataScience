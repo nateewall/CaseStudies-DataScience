{
 "cells": [
  {
   "cell_type": "code",
   "execution_count": 1,
   "metadata": {},
   "outputs": [],
   "source": [
    "from sklearn.datasets import load_boston"
   ]
  },
  {
   "cell_type": "code",
   "execution_count": 2,
   "metadata": {},
   "outputs": [],
   "source": [
    "import numpy as np\n",
    "from sklearn.linear_model import LinearRegression\n",
    "from sklearn.metrics import mean_squared_error, r2_score"
   ]
  },
  {
   "cell_type": "markdown",
   "metadata": {},
   "source": [
    "### Loading and Examining Initial Dataset"
   ]
  },
  {
   "cell_type": "code",
   "execution_count": 3,
   "metadata": {},
   "outputs": [
    {
     "name": "stdout",
     "output_type": "stream",
     "text": [
      "(506, 13)\n"
     ]
    }
   ],
   "source": [
    "boston = load_boston()\n",
    "print(boston.data.shape)"
   ]
  },
  {
   "cell_type": "code",
   "execution_count": 4,
   "metadata": {},
   "outputs": [
    {
     "data": {
      "text/plain": [
       "(506,)"
      ]
     },
     "execution_count": 4,
     "metadata": {},
     "output_type": "execute_result"
    }
   ],
   "source": [
    "boston.target.shape"
   ]
  },
  {
   "cell_type": "code",
   "execution_count": 5,
   "metadata": {},
   "outputs": [
    {
     "data": {
      "text/plain": [
       "\".. _boston_dataset:\\n\\nBoston house prices dataset\\n---------------------------\\n\\n**Data Set Characteristics:**  \\n\\n    :Number of Instances: 506 \\n\\n    :Number of Attributes: 13 numeric/categorical predictive. Median Value (attribute 14) is usually the target.\\n\\n    :Attribute Information (in order):\\n        - CRIM     per capita crime rate by town\\n        - ZN       proportion of residential land zoned for lots over 25,000 sq.ft.\\n        - INDUS    proportion of non-retail business acres per town\\n        - CHAS     Charles River dummy variable (= 1 if tract bounds river; 0 otherwise)\\n        - NOX      nitric oxides concentration (parts per 10 million)\\n        - RM       average number of rooms per dwelling\\n        - AGE      proportion of owner-occupied units built prior to 1940\\n        - DIS      weighted distances to five Boston employment centres\\n        - RAD      index of accessibility to radial highways\\n        - TAX      full-value property-tax rate per $10,000\\n        - PTRATIO  pupil-teacher ratio by town\\n        - B        1000(Bk - 0.63)^2 where Bk is the proportion of blacks by town\\n        - LSTAT    % lower status of the population\\n        - MEDV     Median value of owner-occupied homes in $1000's\\n\\n    :Missing Attribute Values: None\\n\\n    :Creator: Harrison, D. and Rubinfeld, D.L.\\n\\nThis is a copy of UCI ML housing dataset.\\nhttps://archive.ics.uci.edu/ml/machine-learning-databases/housing/\\n\\n\\nThis dataset was taken from the StatLib library which is maintained at Carnegie Mellon University.\\n\\nThe Boston house-price data of Harrison, D. and Rubinfeld, D.L. 'Hedonic\\nprices and the demand for clean air', J. Environ. Economics & Management,\\nvol.5, 81-102, 1978.   Used in Belsley, Kuh & Welsch, 'Regression diagnostics\\n...', Wiley, 1980.   N.B. Various transformations are used in the table on\\npages 244-261 of the latter.\\n\\nThe Boston house-price data has been used in many machine learning papers that address regression\\nproblems.   \\n     \\n.. topic:: References\\n\\n   - Belsley, Kuh & Welsch, 'Regression diagnostics: Identifying Influential Data and Sources of Collinearity', Wiley, 1980. 244-261.\\n   - Quinlan,R. (1993). Combining Instance-Based and Model-Based Learning. In Proceedings on the Tenth International Conference of Machine Learning, 236-243, University of Massachusetts, Amherst. Morgan Kaufmann.\\n\""
      ]
     },
     "execution_count": 5,
     "metadata": {},
     "output_type": "execute_result"
    }
   ],
   "source": [
    "boston.DESCR"
   ]
  },
  {
   "cell_type": "markdown",
   "metadata": {},
   "source": [
    "### Step 1: Setting up Initial Regression"
   ]
  },
  {
   "cell_type": "code",
   "execution_count": 6,
   "metadata": {},
   "outputs": [],
   "source": [
    "x = boston.data[:,np.r_[0:11,12]]\n",
    "y = boston.target"
   ]
  },
  {
   "cell_type": "code",
   "execution_count": 8,
   "metadata": {},
   "outputs": [],
   "source": [
    "def regTesting(x,y):\n",
    "    regr = LinearRegression()\n",
    "    regr.fit(x,y)\n",
    "    y_pred = regr.predict(x)\n",
    "    mse = mean_squared_error(y,y_pred)\n",
    "    r2 = r2_score(y,y_pred)\n",
    "    return mse, r2"
   ]
  },
  {
   "cell_type": "code",
   "execution_count": 9,
   "metadata": {},
   "outputs": [
    {
     "name": "stdout",
     "output_type": "stream",
     "text": [
      "Baseline MSE: 22.429681439489926 \n",
      "Baseline R2: 0.7343070437613076\n"
     ]
    }
   ],
   "source": [
    "base_mse, base_r2 = regTesting(x,y)\n",
    "print('Baseline MSE:', base_mse,'\\nBaseline R2:', base_r2)"
   ]
  },
  {
   "cell_type": "markdown",
   "metadata": {},
   "source": [
    "### Step 2: MCAR Imputation Performance"
   ]
  },
  {
   "cell_type": "code",
   "execution_count": 11,
   "metadata": {},
   "outputs": [],
   "source": [
    "from sklearn.experimental import enable_iterative_imputer  \n",
    "from sklearn.impute import IterativeImputer"
   ]
  },
  {
   "cell_type": "code",
   "execution_count": 12,
   "metadata": {},
   "outputs": [],
   "source": [
    "perc_array = [0.01, 0.05, 0.10, 0.2, 0.33, 0.5]"
   ]
  },
  {
   "cell_type": "code",
   "execution_count": 13,
   "metadata": {},
   "outputs": [],
   "source": [
    "def mcar_dataset(x, rate, random = 0):\n",
    "    rng = np.random.RandomState(random)\n",
    "    missing_rate = rate\n",
    "    length = len(x)\n",
    "    num_to_remove = int(np.floor(length * missing_rate))\n",
    "    missing_records_bool = np.hstack((np.zeros(length - num_to_remove,\n",
    "                                          dtype=np.bool),\n",
    "                                 np.ones(num_to_remove,\n",
    "                                         dtype=np.bool)))\n",
    "    rng.shuffle(missing_records_bool)\n",
    "    \n",
    "    X_missing = x.copy()\n",
    "\n",
    "    # change the [0] index to represent the column to be reduced\n",
    "    X_missing[np.where(missing_records_bool)[0]] = np.nan\n",
    "    return X_missing"
   ]
  },
  {
   "cell_type": "code",
   "execution_count": 15,
   "metadata": {},
   "outputs": [],
   "source": [
    "# The sample_posterior = True is to allow for multiple imputation, if we're doing that. Would need to modify the random_state for each iteration (maybe just remove the random_state?)\n",
    "imputer = IterativeImputer(missing_values=np.nan, sample_posterior=True, random_state=0)"
   ]
  },
  {
   "cell_type": "code",
   "execution_count": 26,
   "metadata": {},
   "outputs": [],
   "source": [
    "imputed_scores = []\n",
    "for rate in perc_array:\n",
    "    x_new = mcar_dataset(x,rate)\n",
    "    x_impute = imputer.fit_transform(x_new)\n",
    "    mse, r2 = regTesting(x_impute,y)\n",
    "    imputed_scores.append((rate, mse,r2))"
   ]
  },
  {
   "cell_type": "code",
   "execution_count": 27,
   "metadata": {},
   "outputs": [
    {
     "data": {
      "text/plain": [
       "[(0.01, 22.64428223592788, 0.7317649693154178),\n",
       " (0.05, 26.275952472138783, 0.6887456690303894),\n",
       " (0.1, 34.14565882189338, 0.5955243029384305),\n",
       " (0.2, 41.45609482792811, 0.5089278276796485),\n",
       " (0.33, 54.40798916616807, 0.35550491327483247),\n",
       " (0.5, 68.3520295315182, 0.19032943735127505)]"
      ]
     },
     "execution_count": 27,
     "metadata": {},
     "output_type": "execute_result"
    }
   ],
   "source": [
    "imputed_scores"
   ]
  },
  {
   "cell_type": "code",
   "execution_count": 33,
   "metadata": {},
   "outputs": [
    {
     "data": {
      "text/plain": [
       "array([(0.01, 22.64428224, 0.73176497), (0.05, 26.27595247, 0.68874567),\n",
       "       (0.1 , 34.14565882, 0.5955243 ), (0.2 , 41.45609483, 0.50892783),\n",
       "       (0.33, 54.40798917, 0.35550491), (0.5 , 68.35202953, 0.19032944)],\n",
       "      dtype=[('Missing Rate', '<f8'), ('MSE', '<f8'), ('R2', '<f8')])"
      ]
     },
     "execution_count": 33,
     "metadata": {},
     "output_type": "execute_result"
    }
   ],
   "source": [
    "dt=np.dtype('float,float,float')\n",
    "imp_scores_arr = np.array(imputed_scores,dtype=dt)\n",
    "imp_scores_arr.dtype.names=['Missing Rate','MSE','R2']\n",
    "imp_scores_arr"
   ]
  },
  {
   "cell_type": "code",
   "execution_count": 38,
   "metadata": {},
   "outputs": [],
   "source": [
    "import matplotlib.pyplot as plt"
   ]
  },
  {
   "cell_type": "code",
   "execution_count": 61,
   "metadata": {},
   "outputs": [
    {
     "data": {
      "image/png": "[encoded data removed]",
      "text/plain": [
       "<Figure size 864x432 with 2 Axes>"
      ]
     },
     "metadata": {
      "needs_background": "light"
     },
     "output_type": "display_data"
    }
   ],
   "source": [
    "plt.figure(figsize=(12, 6))\n",
    "ax1 = plt.subplot(121)\n",
    "ax1.plot(imp_scores_arr['Missing Rate'], imp_scores_arr['MSE'], alpha=0.6, c='blue')\n",
    "ax1.plot(0, base_mse, 'gs')\n",
    "ax1.set_title('MSE of Imputed Missing Data')\n",
    "ax1.set_xlim(left=imp_scores_arr['Missing Rate'][0]*-1, right=imp_scores_arr['Missing Rate'][5]* 1.1)\n",
    "ax1.set_xlabel('Missing Rate')\n",
    "\n",
    "ax2 = plt.subplot(122)\n",
    "ax2.plot(imp_scores_arr['Missing Rate'], imp_scores_arr['R2'], alpha=0.6, c='blue')\n",
    "ax2.plot(0,base_r2, 'gs')\n",
    "ax2.set_title('Goodness of Fit of Imputed Missing Data')\n",
    "ax2.set_xlim(left=imp_scores_arr['Missing Rate'][0]*-1, right=imp_scores_arr['Missing Rate'][5]* 1.1)\n",
    "ax2.set_xlabel('Missing Rate')\n",
    "\n",
    "plt.show()"
   ]
  },
  {
   "cell_type": "markdown",
   "metadata": {},
   "source": [
    "### Step 3: MAR Imputation Performance"
   ]
  },
  {
   "cell_type": "markdown",
   "metadata": {},
   "source": [
    "Take 2 different columns and create data “Missing at Random” when controlled for a third variable (i.e if Variable Z is > 30, than Variables X, Y are randomly missing).  Make runs with 10%, 20% and 30% missing data imputed via your best guess.  Repeat your fit and comparisons to the baseline."
   ]
  },
  {
   "cell_type": "code",
   "execution_count": 62,
   "metadata": {},
   "outputs": [],
   "source": [
    "perc_array2 = [0.10, 0.2, 0.3]"
   ]
  },
  {
   "cell_type": "code",
   "execution_count": 169,
   "metadata": {},
   "outputs": [],
   "source": [
    "def mar_dataset(x,rate,random=0):\n",
    "    rate = rate\n",
    "    # creates a boolean that looks for where the NO levels are greater than 85% of the maximum value of NO in the dataset\n",
    "    x_check = np.where(x[:,4]>(0.85*max(x[:,4])))\n",
    "    num = int(np.floor(rate*len(x_check[0])))\n",
    "    missing = np.random.choice(x_check[0], num ,replace=False)\n",
    "    X_missing = x.copy()\n",
    "    X_missing[missing, 6:7] = np.nan\n",
    "    return X_missing"
   ]
  },
  {
   "cell_type": "code",
   "execution_count": 170,
   "metadata": {},
   "outputs": [
    {
     "data": {
      "text/plain": [
       "array([[6.3200e-03, 1.8000e+01, 2.3100e+00, ..., 2.9600e+02, 1.5300e+01,\n",
       "        4.9800e+00],\n",
       "       [2.7310e-02, 0.0000e+00, 7.0700e+00, ..., 2.4200e+02, 1.7800e+01,\n",
       "        9.1400e+00],\n",
       "       [2.7290e-02, 0.0000e+00, 7.0700e+00, ..., 2.4200e+02, 1.7800e+01,\n",
       "        4.0300e+00],\n",
       "       ...,\n",
       "       [6.0760e-02, 0.0000e+00, 1.1930e+01, ..., 2.7300e+02, 2.1000e+01,\n",
       "        5.6400e+00],\n",
       "       [1.0959e-01, 0.0000e+00, 1.1930e+01, ..., 2.7300e+02, 2.1000e+01,\n",
       "        6.4800e+00],\n",
       "       [4.7410e-02, 0.0000e+00, 1.1930e+01, ..., 2.7300e+02, 2.1000e+01,\n",
       "        7.8800e+00]])"
      ]
     },
     "execution_count": 170,
     "metadata": {},
     "output_type": "execute_result"
    }
   ],
   "source": [
    "mar_dataset(x,0.1)"
   ]
  },
  {
   "cell_type": "code",
   "execution_count": 171,
   "metadata": {},
   "outputs": [],
   "source": [
    "imputed_scores2 = []\n",
    "for rate in perc_array2:\n",
    "    x_new = mar_dataset(x,rate)\n",
    "    x_impute = imputer.fit_transform(x_new)\n",
    "    mse, r2 = regTesting(x_impute,y)\n",
    "    imputed_scores2.append((rate, mse,r2))"
   ]
  },
  {
   "cell_type": "code",
   "execution_count": 172,
   "metadata": {},
   "outputs": [
    {
     "data": {
      "text/plain": [
       "array([(0.1, 22.43053632, 0.73429692), (0.2, 22.42783428, 0.73432892),\n",
       "       (0.3, 22.4323382 , 0.73427557)],\n",
       "      dtype=[('Missing Rate', '<f8'), ('MSE', '<f8'), ('R2', '<f8')])"
      ]
     },
     "execution_count": 172,
     "metadata": {},
     "output_type": "execute_result"
    }
   ],
   "source": [
    "dt2=np.dtype('float,float,float')\n",
    "imp_scores_arr2 = np.array(imputed_scores2,dtype=dt2)\n",
    "imp_scores_arr2.dtype.names=['Missing Rate','MSE','R2']\n",
    "imp_scores_arr2"
   ]
  },
  {
   "cell_type": "code",
   "execution_count": 177,
   "metadata": {},
   "outputs": [
    {
     "data": {
      "image/png": "[encoded data removed]",
      "text/plain": [
       "<Figure size 864x432 with 2 Axes>"
      ]
     },
     "metadata": {
      "needs_background": "light"
     },
     "output_type": "display_data"
    }
   ],
   "source": [
    "plt.figure(figsize=(12, 6))\n",
    "ax3 = plt.subplot(121)\n",
    "ax3.plot(imp_scores_arr2['Missing Rate'], imp_scores_arr2['MSE'], alpha=0.6, c='blue')\n",
    "ax3.plot(0, base_mse, 'gs')\n",
    "ax3.set_title('MSE of Imputed Missing Data')\n",
    "ax3.set_xlim(left=-.01, right=imp_scores_arr2['Missing Rate'][2]* 1.1)\n",
    "ax3.set_xlabel('Missing Rate')\n",
    "\n",
    "ax4 = plt.subplot(122)\n",
    "ax4.plot(imp_scores_arr2['Missing Rate'], imp_scores_arr2['R2'], alpha=0.6, c='blue')\n",
    "ax4.plot(0,base_r2, 'gs')\n",
    "ax4.set_title('Goodness of Fit of Imputed Missing Data')\n",
    "ax4.set_xlim(left=-.01, right=imp_scores_arr2['Missing Rate'][2]* 1.1)\n",
    "ax4.set_xlabel('Missing Rate')\n",
    "\n",
    "plt.show()"
   ]
  },
  {
   "cell_type": "markdown",
   "metadata": {},
   "source": [
    "### Step 4: MNAR Imputation Performance \n",
    "Create a Missing Not at Random pattern in which 25% of the data is missing for a single column. "
   ]
  },
  {
   "cell_type": "code",
   "execution_count": 181,
   "metadata": {},
   "outputs": [
    {
     "data": {
      "text/plain": [
       "3.6770825"
      ]
     },
     "execution_count": 181,
     "metadata": {},
     "output_type": "execute_result"
    }
   ],
   "source": [
    "# To find what value the highest 25% of CRIM are (to know where to slice)\n",
    "np.quantile(x[:,0],.75)"
   ]
  },
  {
   "cell_type": "code",
   "execution_count": 189,
   "metadata": {},
   "outputs": [],
   "source": [
    "def mnar_dataset(x,rate = 0.25,random=0):\n",
    "    rate = 1-rate\n",
    "    # creates a boolean that looks for where the NO levels are greater than 85% of the maximum value of NO in the dataset\n",
    "    x_check = np.where(x[:,0]>np.quantile(x[:,0],rate))\n",
    "    X_missing = x.copy()\n",
    "    X_missing[x_check, 0] = np.nan\n",
    "    return X_missing"
   ]
  },
  {
   "cell_type": "code",
   "execution_count": 196,
   "metadata": {},
   "outputs": [],
   "source": [
    "x_new = mnar_dataset(x)\n",
    "x_impute = imputer.fit_transform(x_new)\n",
    "mse_mnar, r2_mnar = regTesting(x_impute,y)\n"
   ]
  },
  {
   "cell_type": "code",
   "execution_count": 198,
   "metadata": {},
   "outputs": [
    {
     "name": "stdout",
     "output_type": "stream",
     "text": [
      "Baseline MSE: 22.429681439489926 \n",
      "Baseline R2: 0.7343070437613076\n",
      "\n",
      "MNAR Imputed MSE: 23.011198785250176 \n",
      "MNAR Imputed R2: 0.7274186239183448\n"
     ]
    }
   ],
   "source": [
    "print('Baseline MSE:', base_mse,'\\nBaseline R2:', base_r2)\n",
    "print('\\nMNAR Imputed MSE:', mse_mnar,'\\nMNAR Imputed R2:', r2_mnar)"
   ]
  },
  {
   "cell_type": "code",
   "execution_count": null,
   "metadata": {},
   "outputs": [],
   "source": []
  }
 ],
 "metadata": {
  "kernelspec": {
   "display_name": "Python 3",
   "language": "python",
   "name": "python3"
  },
  "language_info": {
   "codemirror_mode": {
    "name": "ipython",
    "version": 3
   },
   "file_extension": ".py",
   "mimetype": "text/x-python",
   "name": "python",
   "nbconvert_exporter": "python",
   "pygments_lexer": "ipython3",
   "version": "3.7.3"
  }
 },
 "nbformat": 4,
 "nbformat_minor": 2
}
