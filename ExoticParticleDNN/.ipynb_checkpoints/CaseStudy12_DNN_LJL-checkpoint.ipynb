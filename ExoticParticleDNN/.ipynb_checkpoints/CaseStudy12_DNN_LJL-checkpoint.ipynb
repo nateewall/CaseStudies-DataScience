{
 "cells": [
  {
   "cell_type": "code",
   "execution_count": 1,
   "metadata": {},
   "outputs": [],
   "source": [
    "import tensorflow as tf\n",
    "from tensorflow.keras import layers\n",
    "import pandas as pd\n",
    "import numpy as np"
   ]
  },
  {
   "cell_type": "code",
   "execution_count": 2,
   "metadata": {},
   "outputs": [
    {
     "name": "stdout",
     "output_type": "stream",
     "text": [
      "1.12.0\n"
     ]
    }
   ],
   "source": [
    "print(tf.__version__)"
   ]
  },
  {
   "cell_type": "code",
   "execution_count": 3,
   "metadata": {},
   "outputs": [
    {
     "name": "stdout",
     "output_type": "stream",
     "text": [
      "[name: \"/device:CPU:0\"\n",
      "device_type: \"CPU\"\n",
      "memory_limit: 268435456\n",
      "locality {\n",
      "}\n",
      "incarnation: 5020226693128817682\n",
      ", name: \"/device:XLA_CPU:0\"\n",
      "device_type: \"XLA_CPU\"\n",
      "memory_limit: 17179869184\n",
      "locality {\n",
      "}\n",
      "incarnation: 11996867067055256929\n",
      "physical_device_desc: \"device: XLA_CPU device\"\n",
      "]\n"
     ]
    }
   ],
   "source": [
    "from tensorflow.python.client import device_lib\n",
    "print(device_lib.list_local_devices())"
   ]
  },
  {
   "cell_type": "markdown",
   "metadata": {},
   "source": [
    "# load data"
   ]
  },
  {
   "cell_type": "code",
   "execution_count": null,
   "metadata": {},
   "outputs": [],
   "source": [
    "data = pd.read_csv(\"HIGGS.csv\", header=None)"
   ]
  },
  {
   "cell_type": "code",
   "execution_count": 6,
   "metadata": {},
   "outputs": [],
   "source": [
    "labels = data[0]\n",
    "data = data.iloc[:,1:28]"
   ]
  },
  {
   "cell_type": "code",
   "execution_count": 7,
   "metadata": {},
   "outputs": [],
   "source": [
    "# Input features were standardized over the entire train/test set with mean zero and standard deviation one\n",
    "from sklearn.preprocessing import StandardScaler\n",
    "scaler = StandardScaler()\n",
    "scaled_data = scaler.fit_transform(data)"
   ]
  },
  {
   "cell_type": "code",
   "execution_count": 8,
   "metadata": {},
   "outputs": [],
   "source": [
    "# pull out last 500000 observations as test set (this is the 500000 used by the authors for testing)\n",
    "test_data = scaled_data[-500000:,:]\n",
    "test_labels = labels[-500000:]\n",
    "test_labels = test_labels.values\n",
    "\n",
    "# prepare training data, cut data before test set\n",
    "train_data = scaled_data[:scaled_data.shape[0] - 500000,:]\n",
    "train_labels = labels[:data.shape[0] - 500000]\n",
    "train_labels = train_labels.values"
   ]
  },
  {
   "cell_type": "markdown",
   "metadata": {},
   "source": [
    "# model"
   ]
  },
  {
   "cell_type": "markdown",
   "metadata": {},
   "source": [
    "We selected a five-layer neural network with 300 hidden units in each layer, a learning rate of 0.05, and a weight decay coefficient of 1 × 10^−5."
   ]
  },
  {
   "cell_type": "code",
   "execution_count": 4,
   "metadata": {},
   "outputs": [],
   "source": [
    "model = tf.keras.Sequential()\n",
    "\n",
    "model.add(layers.Dense(200, activation='relu'))\n",
    "model.add(layers.Dense(200, activation='relu'))\n",
    "model.add(layers.Dense(200, activation='relu'))\n",
    "model.add(layers.Dense(200, activation='relu'))\n",
    "model.add(layers.Dense(200, activation='relu'))\n",
    "model.add(layers.Dense(200, activation='relu'))\n",
    "model.add(layers.Dense(1, activation='sigmoid'))\n",
    "\n",
    "model.compile(optimizer=tf.keras.optimizers.SGD(lr=0.05, decay=0.00001), loss='mean_squared_error', metrics=['mean_squared_error'])"
   ]
  },
  {
   "cell_type": "code",
   "execution_count": 9,
   "metadata": {},
   "outputs": [
    {
     "ename": "ImportError",
     "evalue": "cannot import name 'model_to_dot'",
     "output_type": "error",
     "traceback": [
      "\u001b[0;31m---------------------------------------------------------------------------\u001b[0m",
      "\u001b[0;31mImportError\u001b[0m                               Traceback (most recent call last)",
      "\u001b[0;32m<ipython-input-9-819c3bda4aa6>\u001b[0m in \u001b[0;36m<module>\u001b[0;34m\u001b[0m\n\u001b[1;32m      1\u001b[0m \u001b[0;32mfrom\u001b[0m \u001b[0mIPython\u001b[0m\u001b[0;34m.\u001b[0m\u001b[0mdisplay\u001b[0m \u001b[0;32mimport\u001b[0m \u001b[0mSVG\u001b[0m\u001b[0;34m\u001b[0m\u001b[0m\n\u001b[0;32m----> 2\u001b[0;31m \u001b[0;32mfrom\u001b[0m \u001b[0mkeras\u001b[0m\u001b[0;34m.\u001b[0m\u001b[0mutils\u001b[0m \u001b[0;32mimport\u001b[0m \u001b[0mmodel_to_dot\u001b[0m\u001b[0;34m\u001b[0m\u001b[0m\n\u001b[0m\u001b[1;32m      3\u001b[0m \u001b[0;34m\u001b[0m\u001b[0m\n\u001b[1;32m      4\u001b[0m \u001b[0mSVG\u001b[0m\u001b[0;34m(\u001b[0m\u001b[0mmodel_to_dot\u001b[0m\u001b[0;34m(\u001b[0m\u001b[0mmodel\u001b[0m\u001b[0;34m)\u001b[0m\u001b[0;34m.\u001b[0m\u001b[0mcreate\u001b[0m\u001b[0;34m(\u001b[0m\u001b[0mprog\u001b[0m\u001b[0;34m=\u001b[0m\u001b[0;34m'dot'\u001b[0m\u001b[0;34m,\u001b[0m \u001b[0mformat\u001b[0m\u001b[0;34m=\u001b[0m\u001b[0;34m'svg'\u001b[0m\u001b[0;34m)\u001b[0m\u001b[0;34m)\u001b[0m\u001b[0;34m\u001b[0m\u001b[0m\n",
      "\u001b[0;31mImportError\u001b[0m: cannot import name 'model_to_dot'"
     ]
    }
   ],
   "source": [
    "from IPython.display import SVG\n",
    "from keras.utils import model_to_dot\n",
    "\n",
    "SVG(model_to_dot(model).create(prog='dot', format='svg'))"
   ]
  },
  {
   "cell_type": "code",
   "execution_count": 43,
   "metadata": {},
   "outputs": [
    {
     "name": "stdout",
     "output_type": "stream",
     "text": [
      "Train on 7875000 samples, validate on 2625000 samples\n",
      "Epoch 1/100\n",
      "7875000/7875000 [==============================] - 19s 2us/sample - loss: 0.2295 - mean_squared_error: 0.2295 - val_loss: 0.2179 - val_mean_squared_error: 0.2179\n",
      "Epoch 2/100\n",
      "7875000/7875000 [==============================] - 18s 2us/sample - loss: 0.2130 - mean_squared_error: 0.2130 - val_loss: 0.2088 - val_mean_squared_error: 0.2088\n",
      "Epoch 3/100\n",
      "7875000/7875000 [==============================] - 18s 2us/sample - loss: 0.2050 - mean_squared_error: 0.2050 - val_loss: 0.2017 - val_mean_squared_error: 0.2017\n",
      "Epoch 4/100\n",
      "7875000/7875000 [==============================] - 18s 2us/sample - loss: 0.1991 - mean_squared_error: 0.1991 - val_loss: 0.1968 - val_mean_squared_error: 0.1968\n",
      "Epoch 5/100\n",
      "7875000/7875000 [==============================] - 19s 2us/sample - loss: 0.1949 - mean_squared_error: 0.1949 - val_loss: 0.1932 - val_mean_squared_error: 0.1932\n",
      "Epoch 6/100\n",
      "7875000/7875000 [==============================] - 19s 2us/sample - loss: 0.1916 - mean_squared_error: 0.1916 - val_loss: 0.1905 - val_mean_squared_error: 0.1905\n",
      "Epoch 7/100\n",
      "7875000/7875000 [==============================] - 19s 2us/sample - loss: 0.1891 - mean_squared_error: 0.1891 - val_loss: 0.1880 - val_mean_squared_error: 0.1880\n",
      "Epoch 8/100\n",
      "7875000/7875000 [==============================] - 19s 2us/sample - loss: 0.1869 - mean_squared_error: 0.1869 - val_loss: 0.1861 - val_mean_squared_error: 0.1861\n",
      "Epoch 9/100\n",
      "7875000/7875000 [==============================] - 19s 2us/sample - loss: 0.1851 - mean_squared_error: 0.1851 - val_loss: 0.1851 - val_mean_squared_error: 0.1851\n",
      "Epoch 10/100\n",
      "7875000/7875000 [==============================] - 18s 2us/sample - loss: 0.1836 - mean_squared_error: 0.1836 - val_loss: 0.1831 - val_mean_squared_error: 0.1831\n",
      "Epoch 11/100\n",
      "7875000/7875000 [==============================] - 18s 2us/sample - loss: 0.1822 - mean_squared_error: 0.1822 - val_loss: 0.1818 - val_mean_squared_error: 0.1818\n",
      "Epoch 12/100\n",
      "7875000/7875000 [==============================] - 18s 2us/sample - loss: 0.1811 - mean_squared_error: 0.1811 - val_loss: 0.1807 - val_mean_squared_error: 0.1807\n",
      "Epoch 13/100\n",
      "7875000/7875000 [==============================] - 18s 2us/sample - loss: 0.1801 - mean_squared_error: 0.1801 - val_loss: 0.1799 - val_mean_squared_error: 0.1799\n",
      "Epoch 14/100\n",
      "7875000/7875000 [==============================] - 18s 2us/sample - loss: 0.1793 - mean_squared_error: 0.1793 - val_loss: 0.1790 - val_mean_squared_error: 0.1790\n",
      "Epoch 15/100\n",
      "7875000/7875000 [==============================] - 18s 2us/sample - loss: 0.1785 - mean_squared_error: 0.1785 - val_loss: 0.1784 - val_mean_squared_error: 0.1784\n",
      "Epoch 16/100\n",
      "7875000/7875000 [==============================] - 18s 2us/sample - loss: 0.1778 - mean_squared_error: 0.1778 - val_loss: 0.1776 - val_mean_squared_error: 0.1776\n",
      "Epoch 17/100\n",
      "7875000/7875000 [==============================] - 18s 2us/sample - loss: 0.1772 - mean_squared_error: 0.1772 - val_loss: 0.1771 - val_mean_squared_error: 0.1771\n",
      "Epoch 18/100\n",
      "7875000/7875000 [==============================] - 19s 2us/sample - loss: 0.1765 - mean_squared_error: 0.1765 - val_loss: 0.1767 - val_mean_squared_error: 0.1767\n",
      "Epoch 19/100\n",
      "7875000/7875000 [==============================] - 19s 2us/sample - loss: 0.1760 - mean_squared_error: 0.1760 - val_loss: 0.1759 - val_mean_squared_error: 0.1759\n",
      "Epoch 20/100\n",
      "7875000/7875000 [==============================] - 19s 2us/sample - loss: 0.1755 - mean_squared_error: 0.1755 - val_loss: 0.1754 - val_mean_squared_error: 0.1754\n",
      "Epoch 21/100\n",
      "7875000/7875000 [==============================] - 19s 2us/sample - loss: 0.1750 - mean_squared_error: 0.1750 - val_loss: 0.1750 - val_mean_squared_error: 0.1750\n",
      "Epoch 22/100\n",
      "7875000/7875000 [==============================] - 19s 2us/sample - loss: 0.1745 - mean_squared_error: 0.1745 - val_loss: 0.1747 - val_mean_squared_error: 0.1747\n",
      "Epoch 23/100\n",
      "7875000/7875000 [==============================] - 19s 2us/sample - loss: 0.1741 - mean_squared_error: 0.1741 - val_loss: 0.1742 - val_mean_squared_error: 0.1742\n",
      "Epoch 24/100\n",
      "7875000/7875000 [==============================] - 19s 2us/sample - loss: 0.1737 - mean_squared_error: 0.1737 - val_loss: 0.1737 - val_mean_squared_error: 0.1737\n",
      "Epoch 25/100\n",
      "7875000/7875000 [==============================] - 19s 2us/sample - loss: 0.1732 - mean_squared_error: 0.1732 - val_loss: 0.1734 - val_mean_squared_error: 0.1734\n",
      "Epoch 26/100\n",
      "7875000/7875000 [==============================] - 19s 2us/sample - loss: 0.1729 - mean_squared_error: 0.1729 - val_loss: 0.1731 - val_mean_squared_error: 0.1731\n",
      "Epoch 27/100\n",
      "7875000/7875000 [==============================] - 19s 2us/sample - loss: 0.1725 - mean_squared_error: 0.1725 - val_loss: 0.1730 - val_mean_squared_error: 0.1730\n",
      "Epoch 28/100\n",
      "7875000/7875000 [==============================] - 19s 2us/sample - loss: 0.1722 - mean_squared_error: 0.1722 - val_loss: 0.1723 - val_mean_squared_error: 0.1723\n",
      "Epoch 29/100\n",
      "7875000/7875000 [==============================] - 19s 2us/sample - loss: 0.1718 - mean_squared_error: 0.1718 - val_loss: 0.1721 - val_mean_squared_error: 0.1721\n",
      "Epoch 30/100\n",
      "7875000/7875000 [==============================] - 19s 2us/sample - loss: 0.1715 - mean_squared_error: 0.1715 - val_loss: 0.1717 - val_mean_squared_error: 0.1717\n",
      "Epoch 31/100\n",
      "7875000/7875000 [==============================] - 19s 2us/sample - loss: 0.1712 - mean_squared_error: 0.1712 - val_loss: 0.1714 - val_mean_squared_error: 0.1714\n",
      "Epoch 32/100\n",
      "7875000/7875000 [==============================] - 19s 2us/sample - loss: 0.1709 - mean_squared_error: 0.1709 - val_loss: 0.1711 - val_mean_squared_error: 0.1711\n",
      "Epoch 33/100\n",
      "7875000/7875000 [==============================] - 19s 2us/sample - loss: 0.1707 - mean_squared_error: 0.1707 - val_loss: 0.1710 - val_mean_squared_error: 0.1710\n",
      "Epoch 34/100\n",
      "7875000/7875000 [==============================] - 19s 2us/sample - loss: 0.1704 - mean_squared_error: 0.1704 - val_loss: 0.1706 - val_mean_squared_error: 0.1706\n",
      "Epoch 35/100\n",
      "7875000/7875000 [==============================] - 19s 2us/sample - loss: 0.1702 - mean_squared_error: 0.1702 - val_loss: 0.1706 - val_mean_squared_error: 0.1706\n",
      "Epoch 36/100\n",
      "7875000/7875000 [==============================] - 19s 2us/sample - loss: 0.1698 - mean_squared_error: 0.1698 - val_loss: 0.1702 - val_mean_squared_error: 0.1702\n",
      "Epoch 37/100\n",
      "7875000/7875000 [==============================] - 19s 2us/sample - loss: 0.1696 - mean_squared_error: 0.1696 - val_loss: 0.1703 - val_mean_squared_error: 0.1703\n",
      "Epoch 38/100\n",
      "7875000/7875000 [==============================] - 19s 2us/sample - loss: 0.1694 - mean_squared_error: 0.1694 - val_loss: 0.1697 - val_mean_squared_error: 0.1697\n",
      "Epoch 39/100\n",
      "7875000/7875000 [==============================] - 19s 2us/sample - loss: 0.1692 - mean_squared_error: 0.1692 - val_loss: 0.1695 - val_mean_squared_error: 0.1695\n",
      "Epoch 40/100\n",
      "7875000/7875000 [==============================] - 19s 2us/sample - loss: 0.1690 - mean_squared_error: 0.1690 - val_loss: 0.1694 - val_mean_squared_error: 0.1694\n",
      "Epoch 41/100\n",
      "7875000/7875000 [==============================] - 19s 2us/sample - loss: 0.1687 - mean_squared_error: 0.1687 - val_loss: 0.1692 - val_mean_squared_error: 0.1692\n",
      "Epoch 42/100\n",
      "7875000/7875000 [==============================] - 19s 2us/sample - loss: 0.1686 - mean_squared_error: 0.1686 - val_loss: 0.1691 - val_mean_squared_error: 0.1691\n",
      "Epoch 43/100\n",
      "7875000/7875000 [==============================] - 19s 2us/sample - loss: 0.1684 - mean_squared_error: 0.1684 - val_loss: 0.1689 - val_mean_squared_error: 0.1689\n",
      "Epoch 44/100\n",
      "7875000/7875000 [==============================] - 19s 2us/sample - loss: 0.1682 - mean_squared_error: 0.1682 - val_loss: 0.1686 - val_mean_squared_error: 0.1686\n",
      "Epoch 45/100\n",
      "7875000/7875000 [==============================] - 19s 2us/sample - loss: 0.1680 - mean_squared_error: 0.1680 - val_loss: 0.1685 - val_mean_squared_error: 0.1685\n",
      "Epoch 46/100\n",
      "7875000/7875000 [==============================] - 19s 2us/sample - loss: 0.1678 - mean_squared_error: 0.1678 - val_loss: 0.1689 - val_mean_squared_error: 0.1689\n",
      "Epoch 47/100\n",
      "7875000/7875000 [==============================] - 18s 2us/sample - loss: 0.1676 - mean_squared_error: 0.1676 - val_loss: 0.1682 - val_mean_squared_error: 0.1682\n",
      "Epoch 48/100\n",
      "7875000/7875000 [==============================] - 19s 2us/sample - loss: 0.1675 - mean_squared_error: 0.1675 - val_loss: 0.1682 - val_mean_squared_error: 0.1682\n",
      "Epoch 49/100\n",
      "7875000/7875000 [==============================] - 18s 2us/sample - loss: 0.1673 - mean_squared_error: 0.1673 - val_loss: 0.1679 - val_mean_squared_error: 0.1679\n",
      "Epoch 50/100\n",
      "7875000/7875000 [==============================] - 18s 2us/sample - loss: 0.1672 - mean_squared_error: 0.1672 - val_loss: 0.1677 - val_mean_squared_error: 0.1677\n",
      "Epoch 51/100\n",
      "7875000/7875000 [==============================] - 18s 2us/sample - loss: 0.1670 - mean_squared_error: 0.1670 - val_loss: 0.1676 - val_mean_squared_error: 0.1676\n",
      "Epoch 52/100\n",
      "7875000/7875000 [==============================] - 18s 2us/sample - loss: 0.1669 - mean_squared_error: 0.1669 - val_loss: 0.1675 - val_mean_squared_error: 0.1675\n",
      "Epoch 53/100\n",
      "7875000/7875000 [==============================] - 18s 2us/sample - loss: 0.1668 - mean_squared_error: 0.1668 - val_loss: 0.1673 - val_mean_squared_error: 0.1673\n",
      "Epoch 54/100\n",
      "7875000/7875000 [==============================] - 18s 2us/sample - loss: 0.1666 - mean_squared_error: 0.1666 - val_loss: 0.1673 - val_mean_squared_error: 0.1673\n",
      "Epoch 55/100\n",
      "7875000/7875000 [==============================] - 19s 2us/sample - loss: 0.1665 - mean_squared_error: 0.1665 - val_loss: 0.1684 - val_mean_squared_error: 0.1684\n",
      "Epoch 56/100\n",
      "7875000/7875000 [==============================] - 18s 2us/sample - loss: 0.1664 - mean_squared_error: 0.1664 - val_loss: 0.1670 - val_mean_squared_error: 0.1670\n",
      "Epoch 57/100\n",
      "7875000/7875000 [==============================] - 18s 2us/sample - loss: 0.1663 - mean_squared_error: 0.1663 - val_loss: 0.1670 - val_mean_squared_error: 0.1670\n",
      "Epoch 58/100\n",
      "7875000/7875000 [==============================] - 18s 2us/sample - loss: 0.1661 - mean_squared_error: 0.1661 - val_loss: 0.1670 - val_mean_squared_error: 0.1670\n",
      "Epoch 59/100\n",
      "7875000/7875000 [==============================] - 18s 2us/sample - loss: 0.1660 - mean_squared_error: 0.1660 - val_loss: 0.1667 - val_mean_squared_error: 0.1667\n",
      "Epoch 60/100\n",
      "7875000/7875000 [==============================] - 18s 2us/sample - loss: 0.1659 - mean_squared_error: 0.1659 - val_loss: 0.1670 - val_mean_squared_error: 0.1670\n",
      "Epoch 61/100\n",
      "7875000/7875000 [==============================] - 18s 2us/sample - loss: 0.1658 - mean_squared_error: 0.1658 - val_loss: 0.1667 - val_mean_squared_error: 0.1667\n",
      "Epoch 62/100\n",
      "7875000/7875000 [==============================] - 18s 2us/sample - loss: 0.1657 - mean_squared_error: 0.1657 - val_loss: 0.1668 - val_mean_squared_error: 0.1668\n",
      "Epoch 63/100\n",
      "7875000/7875000 [==============================] - 18s 2us/sample - loss: 0.1656 - mean_squared_error: 0.1656 - val_loss: 0.1664 - val_mean_squared_error: 0.1664\n",
      "Epoch 64/100\n",
      "7875000/7875000 [==============================] - 18s 2us/sample - loss: 0.1655 - mean_squared_error: 0.1655 - val_loss: 0.1663 - val_mean_squared_error: 0.1663\n",
      "Epoch 65/100\n",
      "7875000/7875000 [==============================] - 19s 2us/sample - loss: 0.1654 - mean_squared_error: 0.1654 - val_loss: 0.1662 - val_mean_squared_error: 0.1662\n",
      "Epoch 66/100\n",
      "7875000/7875000 [==============================] - 18s 2us/sample - loss: 0.1653 - mean_squared_error: 0.1653 - val_loss: 0.1661 - val_mean_squared_error: 0.1661\n",
      "Epoch 67/100\n",
      "7875000/7875000 [==============================] - 18s 2us/sample - loss: 0.1653 - mean_squared_error: 0.1653 - val_loss: 0.1661 - val_mean_squared_error: 0.1661\n",
      "Epoch 68/100\n",
      "7875000/7875000 [==============================] - 19s 2us/sample - loss: 0.1651 - mean_squared_error: 0.1651 - val_loss: 0.1659 - val_mean_squared_error: 0.1659\n",
      "Epoch 69/100\n",
      "7875000/7875000 [==============================] - 19s 2us/sample - loss: 0.1650 - mean_squared_error: 0.1650 - val_loss: 0.1658 - val_mean_squared_error: 0.1658\n",
      "Epoch 70/100\n",
      "7875000/7875000 [==============================] - 19s 2us/sample - loss: 0.1650 - mean_squared_error: 0.1650 - val_loss: 0.1658 - val_mean_squared_error: 0.1658\n",
      "Epoch 71/100\n",
      "7875000/7875000 [==============================] - 19s 2us/sample - loss: 0.1649 - mean_squared_error: 0.1649 - val_loss: 0.1657 - val_mean_squared_error: 0.1657\n",
      "Epoch 72/100\n",
      "7875000/7875000 [==============================] - 19s 2us/sample - loss: 0.1648 - mean_squared_error: 0.1648 - val_loss: 0.1657 - val_mean_squared_error: 0.1657\n",
      "Epoch 73/100\n",
      "7875000/7875000 [==============================] - 19s 2us/sample - loss: 0.1647 - mean_squared_error: 0.1647 - val_loss: 0.1655 - val_mean_squared_error: 0.1655\n",
      "Epoch 74/100\n",
      "7875000/7875000 [==============================] - 19s 2us/sample - loss: 0.1646 - mean_squared_error: 0.1646 - val_loss: 0.1658 - val_mean_squared_error: 0.1658\n",
      "Epoch 75/100\n",
      "7875000/7875000 [==============================] - 19s 2us/sample - loss: 0.1645 - mean_squared_error: 0.1645 - val_loss: 0.1656 - val_mean_squared_error: 0.1656\n",
      "Epoch 76/100\n",
      "7875000/7875000 [==============================] - 19s 2us/sample - loss: 0.1645 - mean_squared_error: 0.1645 - val_loss: 0.1655 - val_mean_squared_error: 0.1655\n",
      "Epoch 77/100\n",
      "7875000/7875000 [==============================] - 19s 2us/sample - loss: 0.1644 - mean_squared_error: 0.1644 - val_loss: 0.1653 - val_mean_squared_error: 0.1653\n",
      "Epoch 78/100\n",
      "7875000/7875000 [==============================] - 19s 2us/sample - loss: 0.1643 - mean_squared_error: 0.1643 - val_loss: 0.1659 - val_mean_squared_error: 0.1659\n",
      "Epoch 79/100\n",
      "7875000/7875000 [==============================] - 19s 2us/sample - loss: 0.1642 - mean_squared_error: 0.1642 - val_loss: 0.1652 - val_mean_squared_error: 0.1652\n",
      "Epoch 80/100\n",
      "7875000/7875000 [==============================] - 19s 2us/sample - loss: 0.1642 - mean_squared_error: 0.1642 - val_loss: 0.1651 - val_mean_squared_error: 0.1651\n",
      "Epoch 81/100\n",
      "7875000/7875000 [==============================] - 19s 2us/sample - loss: 0.1641 - mean_squared_error: 0.1641 - val_loss: 0.1650 - val_mean_squared_error: 0.1650\n",
      "Epoch 82/100\n",
      "7875000/7875000 [==============================] - 19s 2us/sample - loss: 0.1640 - mean_squared_error: 0.1640 - val_loss: 0.1650 - val_mean_squared_error: 0.1650\n",
      "Epoch 83/100\n",
      "7875000/7875000 [==============================] - 19s 2us/sample - loss: 0.1640 - mean_squared_error: 0.1640 - val_loss: 0.1650 - val_mean_squared_error: 0.1650\n",
      "Epoch 84/100\n",
      "7875000/7875000 [==============================] - 19s 2us/sample - loss: 0.1639 - mean_squared_error: 0.1639 - val_loss: 0.1650 - val_mean_squared_error: 0.1650\n",
      "Epoch 85/100\n",
      "7875000/7875000 [==============================] - 19s 2us/sample - loss: 0.1639 - mean_squared_error: 0.1639 - val_loss: 0.1651 - val_mean_squared_error: 0.1651\n",
      "Epoch 86/100\n",
      "7875000/7875000 [==============================] - 19s 2us/sample - loss: 0.1638 - mean_squared_error: 0.1638 - val_loss: 0.1648 - val_mean_squared_error: 0.1648\n",
      "Epoch 87/100\n",
      "7875000/7875000 [==============================] - 19s 2us/sample - loss: 0.1637 - mean_squared_error: 0.1637 - val_loss: 0.1648 - val_mean_squared_error: 0.1648\n",
      "Epoch 88/100\n",
      "7875000/7875000 [==============================] - 19s 2us/sample - loss: 0.1637 - mean_squared_error: 0.1637 - val_loss: 0.1651 - val_mean_squared_error: 0.1651\n",
      "Epoch 89/100\n",
      "7875000/7875000 [==============================] - 19s 2us/sample - loss: 0.1636 - mean_squared_error: 0.1636 - val_loss: 0.1646 - val_mean_squared_error: 0.1646\n",
      "Epoch 90/100\n",
      "7875000/7875000 [==============================] - 19s 2us/sample - loss: 0.1636 - mean_squared_error: 0.1636 - val_loss: 0.1646 - val_mean_squared_error: 0.1646\n",
      "Epoch 91/100\n",
      "7875000/7875000 [==============================] - 19s 2us/sample - loss: 0.1635 - mean_squared_error: 0.1635 - val_loss: 0.1645 - val_mean_squared_error: 0.1645\n",
      "Epoch 92/100\n",
      "7875000/7875000 [==============================] - 19s 2us/sample - loss: 0.1634 - mean_squared_error: 0.1634 - val_loss: 0.1645 - val_mean_squared_error: 0.1645\n",
      "Epoch 93/100\n",
      "7875000/7875000 [==============================] - 19s 2us/sample - loss: 0.1634 - mean_squared_error: 0.1634 - val_loss: 0.1644 - val_mean_squared_error: 0.1644\n"
     ]
    },
    {
     "name": "stdout",
     "output_type": "stream",
     "text": [
      "Epoch 94/100\n",
      "7875000/7875000 [==============================] - 18s 2us/sample - loss: 0.1633 - mean_squared_error: 0.1633 - val_loss: 0.1645 - val_mean_squared_error: 0.1645\n",
      "Epoch 95/100\n",
      "7875000/7875000 [==============================] - 19s 2us/sample - loss: 0.1633 - mean_squared_error: 0.1633 - val_loss: 0.1644 - val_mean_squared_error: 0.1644\n",
      "Epoch 96/100\n",
      "7875000/7875000 [==============================] - 19s 2us/sample - loss: 0.1632 - mean_squared_error: 0.1632 - val_loss: 0.1643 - val_mean_squared_error: 0.1643\n",
      "Epoch 97/100\n",
      "7875000/7875000 [==============================] - 19s 2us/sample - loss: 0.1632 - mean_squared_error: 0.1632 - val_loss: 0.1643 - val_mean_squared_error: 0.1643\n",
      "Epoch 98/100\n",
      "7875000/7875000 [==============================] - 19s 2us/sample - loss: 0.1631 - mean_squared_error: 0.1631 - val_loss: 0.1643 - val_mean_squared_error: 0.1643\n",
      "Epoch 99/100\n",
      "7875000/7875000 [==============================] - 19s 2us/sample - loss: 0.1630 - mean_squared_error: 0.1630 - val_loss: 0.1643 - val_mean_squared_error: 0.1643\n",
      "Epoch 100/100\n",
      "7875000/7875000 [==============================] - 19s 2us/sample - loss: 0.1630 - mean_squared_error: 0.1630 - val_loss: 0.1641 - val_mean_squared_error: 0.1641\n"
     ]
    },
    {
     "data": {
      "text/plain": [
       "<tensorflow.python.keras.callbacks.History at 0x14aed3b6fd0>"
      ]
     },
     "execution_count": 43,
     "metadata": {},
     "output_type": "execute_result"
    }
   ],
   "source": [
    "model.fit(train_data, train_labels, validation_split=.25, epochs=100, batch_size=5000)"
   ]
  },
  {
   "cell_type": "code",
   "execution_count": 44,
   "metadata": {},
   "outputs": [],
   "source": [
    "predictions = model.predict(test_data)"
   ]
  },
  {
   "cell_type": "code",
   "execution_count": null,
   "metadata": {},
   "outputs": [],
   "source": [
    "from sklearn import metrics"
   ]
  },
  {
   "cell_type": "code",
   "execution_count": 45,
   "metadata": {},
   "outputs": [],
   "source": [
    "fpr, tpr, thresholds = metrics.roc_curve(test_labels, predictions)\n",
    "roc_auc = metrics.auc(fpr, tpr)"
   ]
  },
  {
   "cell_type": "code",
   "execution_count": 14,
   "metadata": {},
   "outputs": [],
   "source": [
    "%matplotlib inline"
   ]
  },
  {
   "cell_type": "code",
   "execution_count": 46,
   "metadata": {},
   "outputs": [
    {
     "data": {
      "image/png": "[encoded data removed]",
      "text/plain": [
       "<Figure size 432x288 with 1 Axes>"
      ]
     },
     "metadata": {
      "needs_background": "light"
     },
     "output_type": "display_data"
    }
   ],
   "source": [
    "import matplotlib.pyplot as plt\n",
    "\n",
    "plt.figure()\n",
    "lw = 2\n",
    "plt.plot(fpr, tpr, color='darkorange', lw=lw, label='ROC curve (area = %0.2f)' % roc_auc)\n",
    "plt.plot([0, 1], [0, 1], color='navy', lw=lw, linestyle='--')\n",
    "plt.xlim([0.0, 1.0])\n",
    "plt.ylim([0.0, 1.05])\n",
    "plt.xlabel('False Positive Rate')\n",
    "plt.ylabel('True Positive Rate')\n",
    "plt.title('ROC for Performance of Higgs Benchmark')\n",
    "plt.legend(loc=\"lower right\")\n",
    "plt.show()"
   ]
  },
  {
   "cell_type": "code",
   "execution_count": null,
   "metadata": {},
   "outputs": [],
   "source": []
  }
 ],
 "metadata": {
  "kernelspec": {
   "display_name": "Python 3",
   "language": "python",
   "name": "python3"
  },
  "language_info": {
   "codemirror_mode": {
    "name": "ipython",
    "version": 3
   },
   "file_extension": ".py",
   "mimetype": "text/x-python",
   "name": "python",
   "nbconvert_exporter": "python",
   "pygments_lexer": "ipython3",
   "version": "3.6.6"
  }
 },
 "nbformat": 4,
 "nbformat_minor": 2
}
